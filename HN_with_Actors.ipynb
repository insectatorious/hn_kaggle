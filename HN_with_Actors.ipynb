{
 "cells": [
  {
   "cell_type": "code",
   "execution_count": 2,
   "metadata": {
    "collapsed": true
   },
   "outputs": [],
   "source": [
    "import numpy as np\n",
    "import pandas as pd\n",
    "\n",
    "SOURCE_FILE = 'HN_posts_year_to_Sep_26_2016.csv'\n",
    "\n",
    "hn = pd.read_csv(SOURCE_FILE)"
   ]
  },
  {
   "cell_type": "code",
   "execution_count": 3,
   "metadata": {
    "collapsed": true
   },
   "outputs": [],
   "source": [
    "import pykka\n",
    "\n",
    "from sklearn.feature_extraction.text import TfidfVectorizer\n",
    "\n",
    "vectoriser = TfidfVectorizer(max_df=0.5, min_df=1, stop_words='english', use_idf=True)\n",
    "tfidf_matrix = vectoriser.fit_transform(hn['title'])\n"
   ]
  },
  {
   "cell_type": "code",
   "execution_count": 4,
   "metadata": {
    "collapsed": false,
    "scrolled": true
   },
   "outputs": [],
   "source": [
    "from Actors import Word_to_Vec\n",
    "\n",
    "# Start W2V Actor\n",
    "w2v = Word_to_Vec.start().proxy()\n"
   ]
  },
  {
   "cell_type": "code",
   "execution_count": 7,
   "metadata": {
    "collapsed": false
   },
   "outputs": [
    {
     "name": "stdout",
     "output_type": "stream",
     "text": [
      "98.7575619221\n"
     ]
    }
   ],
   "source": [
    "from Actors import Title_to_Vec\n",
    "import time\n",
    "\n",
    "POOL_SIZE = 8\n",
    "hn_small = hn.head(25000)\n",
    "\n",
    "# Start resolvers\n",
    "resolvers = [Title_to_Vec.start(vectoriser, w2v).proxy() for _ in range(POOL_SIZE)]\n",
    "start = time.time()\n",
    "# Distribute work by mapping titles to resolvers (not blocking)\n",
    "hosts = []\n",
    "for i, title in enumerate(hn_small['title']):\n",
    "    hosts.append(resolvers[i % len(resolvers)].resolve(title))\n",
    "\n",
    "# Gather results (blocking)\n",
    "title_to_vectors = zip(hn_small['title'], pykka.get_all(hosts))\n",
    "print time.time() - start"
   ]
  },
  {
   "cell_type": "code",
   "execution_count": 8,
   "metadata": {
    "collapsed": false
   },
   "outputs": [],
   "source": [
    "# Clean up\n",
    "pykka.ActorRegistry.stop_all(); # Remember to start the W2V actor if rerunning!"
   ]
  },
  {
   "cell_type": "code",
   "execution_count": 214,
   "metadata": {
    "collapsed": false
   },
   "outputs": [],
   "source": [
    "sample = pd.DataFrame(title_to_vectors, columns=[\"title\", \"vector\"])\n",
    "# Lets remove all the points that are at the origin\n",
    "sample = sample[sample[\"vector\"].map(lambda x: np.sum(x) > 0)]\n",
    "# Now we take some random samples for visualising\n",
    "sample = sample.sample(50)"
   ]
  },
  {
   "cell_type": "code",
   "execution_count": 215,
   "metadata": {
    "collapsed": false
   },
   "outputs": [],
   "source": [
    "from sklearn.manifold import TSNE\n",
    "\n",
    "tnse_model = TSNE(n_components=3, method=\"barnes_hut\")\n",
    "#X_2d  = tnse_model.fit_transform([t[1] for t in title_to_vectors])\n",
    "X_2d  = tnse_model.fit_transform(sample.ix[:, 1].tolist())"
   ]
  },
  {
   "cell_type": "code",
   "execution_count": 209,
   "metadata": {
    "collapsed": false
   },
   "outputs": [
    {
     "data": {
      "text/html": [
       "<script>requirejs.config({paths: { 'plotly': ['https://cdn.plot.ly/plotly-latest.min']},});if(!window.Plotly) {{require(['plotly'],function(plotly) {window.Plotly=plotly;});}}</script>"
      ],
      "text/plain": [
       "<IPython.core.display.HTML object>"
      ]
     },
     "metadata": {},
     "output_type": "display_data"
    },
    {
     "data": {
      "text/html": [
       "<div id=\"83a78613-109f-475b-89ec-93fb01e65318\" style=\"height: 525px; width: 100%;\" class=\"plotly-graph-div\"></div><script type=\"text/javascript\">require([\"plotly\"], function(Plotly) { window.PLOTLYENV=window.PLOTLYENV || {};window.PLOTLYENV.BASE_URL=\"https://plot.ly\";Plotly.newPlot(\"83a78613-109f-475b-89ec-93fb01e65318\", [{\"text\": [\"Apple's tax secrets hidden in Australian filings may have helped the EC\", \"What I learned this summer\", \"Why Do Anything? A Meditation on Procrastination\", \"Naked shorts can't stay naked forever\", \"Introduction to Microsrvices: Concept, Pros, Cons and Examples\", \"Ray Dalio's Principles, now available on the web\", \"Check upcoming FPGA seminars, conferences and exhibitions\", \"The story of SoundCloud's data team\", \"The Three Faces of Bayes  Slackpropagation\", \"The Season's Biggest Novel Has 1.3M Words and Outweighs a Bowling Ball\"], \"marker\": {\"opacity\": 0.8, \"line\": {\"width\": 1}, \"size\": 2, \"symbol\": \"circle\", \"colorscale\": \"Viridis\"}, \"mode\": \"markers\", \"y\": [5.397834886302083e-05, 0.00010234651455919113, -4.477917697510767e-05, -8.955858212817884e-05, -0.00017601958702084464, -5.686703437649642e-05, -5.22498328369997e-05, -0.0001258367090871166, -1.0310165646679907e-05, 9.493622317270894e-05], \"x\": [1.2642229840052988e-05, -1.9057288419843104e-05, 6.820501016331091e-05, -5.667881388687494e-05, -1.4542862037955952e-06, 9.027047029374823e-06, -0.00011949402127713807, -4.281692983230828e-05, -1.7490039815215447e-06, 7.069302858849695e-05], \"z\": [0.00010904057168108919, -5.7630937700191145e-05, -1.5475847199266405e-05, -9.047229090950353e-05, 6.8247507871399076e-06, -7.754172425594777e-05, -9.003193928735455e-05, 5.3826897162330195e-05, 8.846261632251796e-05, 3.0093943886164478e-05], \"type\": \"scatter3d\"}], {\"title\": \"HN (first 500 posts)\"}, {\"linkText\": \"Export to plot.ly\", \"showLink\": true})});</script>"
      ],
      "text/plain": [
       "<IPython.core.display.HTML object>"
      ]
     },
     "metadata": {},
     "output_type": "display_data"
    }
   ],
   "source": [
    "from plotly.offline import download_plotlyjs, init_notebook_mode, iplot\n",
    "from plotly.graph_objs import *\n",
    "import colorlover as cl\n",
    "\n",
    "init_notebook_mode(connected=True) # inject plotly.js into the notebook\n",
    "\n",
    "trace = Scatter3d(\n",
    "    x = X_2d[:, 0],\n",
    "    y = X_2d[:, 1],\n",
    "    z = X_2d[:, 2],\n",
    "    mode = \"markers\",\n",
    "    marker=dict(\n",
    "     #   color='rgb(128, 128, 128)',\n",
    "        colorscale='Viridis',   \n",
    "        size=2,\n",
    "        symbol='circle',\n",
    "        line=dict(\n",
    "     #       color='rgb(204, 204, 204)',\n",
    "            width=1\n",
    "        ),\n",
    "        opacity=0.8\n",
    "    ),\n",
    "    text = sample.ix[:, 0].tolist()#[t[0] for t in title_to_vectorsT]]\n",
    "    )\n",
    "\n",
    "iplot({\n",
    "        \"data\": [trace],\n",
    "        \"layout\": Layout(title=\"HN (first 500 posts)\")\n",
    "    })"
   ]
  },
  {
   "cell_type": "code",
   "execution_count": 216,
   "metadata": {
    "collapsed": true
   },
   "outputs": [],
   "source": [
    "from sklearn.cluster import KMeans\n",
    "CLUSTERS = 10\n",
    "kmeans = KMeans(n_clusters=CLUSTERS, n_jobs=-1, max_iter=1000).fit(X_2d)\n"
   ]
  },
  {
   "cell_type": "code",
   "execution_count": 226,
   "metadata": {
    "collapsed": false
   },
   "outputs": [
    {
     "data": {
      "text/html": [
       "<div id=\"3c20c097-7e84-4ccd-82fc-4819500a890b\" style=\"height: 525px; width: 100%;\" class=\"plotly-graph-div\"></div><script type=\"text/javascript\">require([\"plotly\"], function(Plotly) { window.PLOTLYENV=window.PLOTLYENV || {};window.PLOTLYENV.BASE_URL=\"https://plot.ly\";Plotly.newPlot(\"3c20c097-7e84-4ccd-82fc-4819500a890b\", [{\"text\": [\"Confirmed: Honest Company in talks to sell\", \"Finance is Not the Economy\", \"Show HN: Find a movie to watch the lazy way\", \"BLOCC: A Framework for Staying Focused at Work\", \"Show HN: Sign a document online and have it physically sent\", \"I'm about to give up on AngularJS, I'm going to try React\", \"Shadow Broker Breakdown  TAO mistake, not a leak\", \"Pardon Snowden\", \"The Glorious Horror of TECO (2010)\", \"The five dysfunctions of a team\", \"Come On, Fhqwhgads: A Look Back at the Music of Homestar Runner\", \"Bash Letsencrypt autoinstaller and cronjob\", \"Upshot gives 4 pollsters the same raw data, gets 4 different conclusions\", \"The Most Anticipated Games: Issue #18\", \"City Plan for Urine-Repelling Paint Is Extremely Misguided\", \"Closing in on high-temperature superconductivity\", \"The Internet Thinks Im Still Pregnant\", \"Internet censorship\", \"School reform\", \"How to trick your Facebook friends into reading your political opinions\", \"Incremental Compilation\", \"Threatened by Prejudices: French Revolutionary Textbooks\", \"Former Disney Digital Boss Says He Loves Piracy\", \"Stats 110: Probability\", \"Line profiling with Python??Odoo 9 as example\", \"One Answer to School Attendance: Washing Machines\", \"Eve Online goes free-to-play\", \"Pair Programming\", \"Before There Were Stars: The unlikely heroes that made starlight possible\", \"Lenses: Yoneda with Adjunctions\", \"Unsupervised Clustering of Personality:{envious, optimist, pessimist, trustful}\", \"When Analogies Fail\", \"Debunking the Cul-de-Sac\", \"The Politics of Pockets\", \"Sublime Text GIFs\", \"Unparticle physics\", \"That time a BT rep. recommended I use something like Password123\", \"The NCAA: Last Week Tonight with John Oliver (HBO) [video]\", \"Show HN: SkillMint  find your perfect activity partner\", \"What to Make of Andreessen Horowitzs Returns?\", \"[swift-evolution] SE-0138 UnsafeBytes\", \"Wells Fargo and the True Cost of Culture Gone Wrong\", \"Unpicking the Gordian knot around blockchain patents\", \"Plan to Send Probes to the Nearest Star\", \"What's new with neutron-lib 0.4.0\", \"Whatsapp changed their emoji styles: added gloss\", \"Startup News Becomes Hacker News (2007)\", \"Researchers debunk 'five-second rule'\", \"How the CIA made Google\", \"How the 'why's drove the 'what': Epilogue\"], \"marker\": {\"opacity\": 0.8, \"colorscale\": \"Viridis\", \"color\": [30, 30, 80, 40, 80, 50, 10, 0, 80, 40, 40, 30, 90, 30, 40, 10, 70, 60, 30, 10, 90, 80, 10, 40, 30, 30, 10, 10, 70, 90, 80, 30, 90, 80, 40, 10, 80, 30, 10, 20, 90, 40, 70, 80, 60, 80, 10, 10, 10, 10], \"symbol\": \"circle\", \"line\": {\"width\": 1}, \"size\": 2}, \"mode\": \"markers\", \"y\": [11.767116847797585, -32.12395101383809, 51.910364236637044, -26.83251756227913, 44.78003533784782, 92.29489019777519, -30.503909646793886, 109.4760668357771, 28.378687694553232, -21.908491390644073, -49.502885947138886, -5.8257707448764515, 40.95759966592049, -20.750292476162215, 8.502266487990067, -23.757314135813075, -21.31716205910714, 25.20139858353977, -18.525884688168208, -5.458990011644671, 56.53277818319902, 12.162804861349382, -33.20150686031005, -61.7146810412557, -11.753239684469282, -53.30499983019328, -5.559362611708658, 15.493484733210183, -45.866549649008796, 31.559250212028324, 8.57223175829831, 2.6786722178122018, 33.004824056004885, 43.7537036135738, -17.76951961224615, -18.878050000449704, 22.20256905524414, -35.630862073896935, 12.836019440281689, -249.87373089051923, 15.168092864858448, -23.217428751207947, -52.32113727770703, 30.322806862542002, 31.49240130748225, 22.645713524674576, 4.602490088842161, -6.016810253006066, 26.03608460625049, 27.607144924719865], \"x\": [-26.71242494202211, -19.467403016071223, -3.460171005781828, 35.20026801820627, 26.502731834519896, -121.31807490046069, -36.27478063565163, -18.847033744061797, 62.27484590086597, 18.755225770769496, 10.078263390873989, 0.7141089988111391, -40.30348873693373, -20.69754558524491, 46.16856091576083, -33.231012858537824, 13.520624937758601, 14.752720234082691, -47.169643368164564, 34.68698825083592, -47.40435905661696, 27.646282370031273, -1.5862462141923301, 38.05251989251148, -40.9659285970169, -12.492449532264098, 5.68454212400661, -12.767412864809014, 2.328649402877002, -50.1891373112132, 10.485722717045713, -16.642820110177333, -37.249139038898576, -13.398539456255495, 49.71195922610575, 8.070677002094724, -0.91635823118914, 2.090222813478703, -27.099984640240393, 127.92114062701458, -41.28476916405895, 52.67133466291042, 12.28583814636694, 24.42739933593113, 40.52827426105892, -0.7551087300221815, 22.516057760965545, -15.014172438212821, 19.490494955961235, -3.271060456102561], \"z\": [38.110564002666415, -5.988034608137777, 9.575288846834047, -11.152573564563742, 29.383599836846045, -160.3567408347698, -28.266139727987397, 192.79483643652225, 12.620286882082551, 15.897991594395307, -9.361006411630358, 28.766312544028718, 29.645560446798232, 22.544810504213277, -3.622619446033454, -56.92880578478828, -118.0996003930824, 97.3115547079392, 31.256767861797837, -39.38350809933764, 2.3602802459652694, 23.378990769763114, -32.09098531583713, -9.356582263581297, -3.406895039325753, 8.66006673556637, -38.34356864982187, -62.1483355934845, -89.77077250323751, -40.7195691501954, 49.486050891923654, 5.5754945323972125, -12.693214419552051, 38.05880754117818, 40.519195814545974, -9.547710120512665, 0.7790406200802892, 39.336630089289564, -32.78926040389059, 4.567871601977133, 10.019648146682469, 10.77184349823477, -46.15842190995826, -1.1798093960523577, 116.94057069727008, 26.039611465088267, -15.49124081815045, -20.39073698618086, -41.82468539338885, -24.439872842361027], \"type\": \"scatter3d\"}], {\"title\": \"HN (first 500 posts)\"}, {\"linkText\": \"Export to plot.ly\", \"showLink\": true})});</script>"
      ],
      "text/plain": [
       "<IPython.core.display.HTML object>"
      ]
     },
     "metadata": {},
     "output_type": "display_data"
    }
   ],
   "source": [
    "\n",
    "trace = Scatter3d(\n",
    "    x = X_2d[:, 0],\n",
    "    y = X_2d[:, 1],\n",
    "    z = X_2d[:, 2],\n",
    "    mode = \"markers\",\n",
    "    marker=dict(\n",
    "     #   color='rgb(128, 128, 128)',\n",
    "        color = np.multiply(kmeans.labels_, 10),\n",
    "        colorscale='Viridis',   \n",
    "        size=2,\n",
    "        symbol='circle',\n",
    "        line=dict(\n",
    "     #       color='rgb(204, 204, 204)',\n",
    "            width=1\n",
    "        ),\n",
    "        opacity=0.8\n",
    "    ),\n",
    "    text = sample.ix[:, 0].tolist() \n",
    "    )\n",
    "\n",
    "iplot({\n",
    "        \"data\": [trace],\n",
    "        \"layout\": Layout(title=\"HN (first 500 posts)\")\n",
    "    })"
   ]
  },
  {
   "cell_type": "code",
   "execution_count": 212,
   "metadata": {
    "collapsed": false
   },
   "outputs": [
    {
     "data": {
      "text/plain": [
       "array([[  7.06930286e-05,   9.49362232e-05,   3.00939439e-05],\n",
       "       [  9.02704703e-06,  -5.68670344e-05,  -7.75417243e-05],\n",
       "       [ -4.28169298e-05,  -1.25836709e-04,   5.38268972e-05],\n",
       "       [ -1.74900398e-06,  -1.03101656e-05,   8.84626163e-05],\n",
       "       [ -1.90572884e-05,   1.02346515e-04,  -5.76309377e-05],\n",
       "       [ -1.19494021e-04,  -5.22498328e-05,  -9.00319393e-05],\n",
       "       [ -1.45428620e-06,  -1.76019587e-04,   6.82475079e-06],\n",
       "       [  6.82050102e-05,  -4.47791770e-05,  -1.54758472e-05],\n",
       "       [ -5.66788139e-05,  -8.95585821e-05,  -9.04722909e-05],\n",
       "       [  1.26422298e-05,   5.39783489e-05,   1.09040572e-04]])"
      ]
     },
     "execution_count": 212,
     "metadata": {},
     "output_type": "execute_result"
    }
   ],
   "source": [
    "kmeans.cluster_centers_"
   ]
  },
  {
   "cell_type": "code",
   "execution_count": 229,
   "metadata": {
    "collapsed": false,
    "scrolled": true
   },
   "outputs": [
    {
     "data": {
      "text/html": [
       "<div id=\"8035aa38-b185-4573-b03b-8b4fe2996860\" style=\"height: 525px; width: 100%;\" class=\"plotly-graph-div\"></div><script type=\"text/javascript\">require([\"plotly\"], function(Plotly) { window.PLOTLYENV=window.PLOTLYENV || {};window.PLOTLYENV.BASE_URL=\"https://plot.ly\";Plotly.newPlot(\"8035aa38-b185-4573-b03b-8b4fe2996860\", [{\"name\": \"Cluster 0\", \"text\": [\"Pardon Snowden\"], \"y\": [109.4760668357771], \"mode\": \"markers\", \"marker\": {\"color\": \"#522ea9\", \"line\": {\"width\": 0}, \"size\": 2}, \"x\": [-18.847033744061797], \"z\": [192.79483643652225], \"type\": \"scatter3d\"}, {\"name\": \"Cluster 1\", \"text\": [\"Shadow Broker Breakdown  TAO mistake, not a leak\", \"Closing in on high-temperature superconductivity\", \"How to trick your Facebook friends into reading your political opinions\", \"Former Disney Digital Boss Says He Loves Piracy\", \"Eve Online goes free-to-play\", \"Pair Programming\", \"Unparticle physics\", \"Show HN: SkillMint  find your perfect activity partner\", \"Startup News Becomes Hacker News (2007)\", \"Researchers debunk 'five-second rule'\", \"How the CIA made Google\", \"How the 'why's drove the 'what': Epilogue\"], \"y\": [-30.503909646793886, -23.757314135813075, -5.458990011644671, -33.20150686031005, -5.559362611708658, 15.493484733210183, -18.878050000449704, 12.836019440281689, 4.602490088842161, -6.016810253006066, 26.03608460625049, 27.607144924719865], \"mode\": \"markers\", \"marker\": {\"color\": \"#b3de3e\", \"line\": {\"width\": 0}, \"size\": 2}, \"x\": [-36.27478063565163, -33.231012858537824, 34.68698825083592, -1.5862462141923301, 5.68454212400661, -12.767412864809014, 8.070677002094724, -27.099984640240393, 22.516057760965545, -15.014172438212821, 19.490494955961235, -3.271060456102561], \"z\": [-28.266139727987397, -56.92880578478828, -39.38350809933764, -32.09098531583713, -38.34356864982187, -62.1483355934845, -9.547710120512665, -32.78926040389059, -15.49124081815045, -20.39073698618086, -41.82468539338885, -24.439872842361027], \"type\": \"scatter3d\"}, {\"name\": \"Cluster 2\", \"text\": [\"What to Make of Andreessen Horowitzs Returns?\"], \"y\": [-249.87373089051923], \"mode\": \"markers\", \"marker\": {\"color\": \"#625d57\", \"line\": {\"width\": 0}, \"size\": 2}, \"x\": [127.92114062701458], \"z\": [4.567871601977133], \"type\": \"scatter3d\"}, {\"name\": \"Cluster 3\", \"text\": [\"Confirmed: Honest Company in talks to sell\", \"Finance is Not the Economy\", \"Bash Letsencrypt autoinstaller and cronjob\", \"The Most Anticipated Games: Issue #18\", \"School reform\", \"Line profiling with Python??Odoo 9 as example\", \"One Answer to School Attendance: Washing Machines\", \"When Analogies Fail\", \"The NCAA: Last Week Tonight with John Oliver (HBO) [video]\"], \"y\": [11.767116847797585, -32.12395101383809, -5.8257707448764515, -20.750292476162215, -18.525884688168208, -11.753239684469282, -53.30499983019328, 2.6786722178122018, -35.630862073896935], \"mode\": \"markers\", \"marker\": {\"color\": \"#c1eede\", \"line\": {\"width\": 0}, \"size\": 2}, \"x\": [-26.71242494202211, -19.467403016071223, 0.7141089988111391, -20.69754558524491, -47.169643368164564, -40.9659285970169, -12.492449532264098, -16.642820110177333, 2.090222813478703], \"z\": [38.110564002666415, -5.988034608137777, 28.766312544028718, 22.544810504213277, 31.256767861797837, -3.406895039325753, 8.66006673556637, 5.5754945323972125, 39.336630089289564], \"type\": \"scatter3d\"}, {\"name\": \"Cluster 4\", \"text\": [\"BLOCC: A Framework for Staying Focused at Work\", \"The five dysfunctions of a team\", \"Come On, Fhqwhgads: A Look Back at the Music of Homestar Runner\", \"City Plan for Urine-Repelling Paint Is Extremely Misguided\", \"Stats 110: Probability\", \"Sublime Text GIFs\", \"Wells Fargo and the True Cost of Culture Gone Wrong\"], \"y\": [-26.83251756227913, -21.908491390644073, -49.502885947138886, 8.502266487990067, -61.7146810412557, -17.76951961224615, -23.217428751207947], \"mode\": \"markers\", \"marker\": {\"color\": \"#a82f45\", \"line\": {\"width\": 0}, \"size\": 2}, \"x\": [35.20026801820627, 18.755225770769496, 10.078263390873989, 46.16856091576083, 38.05251989251148, 49.71195922610575, 52.67133466291042], \"z\": [-11.152573564563742, 15.897991594395307, -9.361006411630358, -3.622619446033454, -9.356582263581297, 40.519195814545974, 10.77184349823477], \"type\": \"scatter3d\"}, {\"name\": \"Cluster 5\", \"text\": [\"I'm about to give up on AngularJS, I'm going to try React\"], \"y\": [92.29489019777519], \"mode\": \"markers\", \"marker\": {\"color\": \"#303348\", \"line\": {\"width\": 0}, \"size\": 2}, \"x\": [-121.31807490046069], \"z\": [-160.3567408347698], \"type\": \"scatter3d\"}, {\"name\": \"Cluster 6\", \"text\": [\"Internet censorship\", \"What's new with neutron-lib 0.4.0\"], \"y\": [25.20139858353977, 31.49240130748225], \"mode\": \"markers\", \"marker\": {\"color\": \"#f9bce6\", \"line\": {\"width\": 0}, \"size\": 2}, \"x\": [14.752720234082691, 40.52827426105892], \"z\": [97.3115547079392, 116.94057069727008], \"type\": \"scatter3d\"}, {\"name\": \"Cluster 7\", \"text\": [\"The Internet Thinks Im Still Pregnant\", \"Before There Were Stars: The unlikely heroes that made starlight possible\", \"Unpicking the Gordian knot around blockchain patents\"], \"y\": [-21.31716205910714, -45.866549649008796, -52.32113727770703], \"mode\": \"markers\", \"marker\": {\"color\": \"#284363\", \"line\": {\"width\": 0}, \"size\": 2}, \"x\": [13.520624937758601, 2.328649402877002, 12.28583814636694], \"z\": [-118.0996003930824, -89.77077250323751, -46.15842190995826], \"type\": \"scatter3d\"}, {\"name\": \"Cluster 8\", \"text\": [\"Show HN: Find a movie to watch the lazy way\", \"Show HN: Sign a document online and have it physically sent\", \"The Glorious Horror of TECO (2010)\", \"Threatened by Prejudices: French Revolutionary Textbooks\", \"Unsupervised Clustering of Personality:{envious, optimist, pessimist, trustful}\", \"The Politics of Pockets\", \"That time a BT rep. recommended I use something like Password123\", \"Plan to Send Probes to the Nearest Star\", \"Whatsapp changed their emoji styles: added gloss\"], \"y\": [51.910364236637044, 44.78003533784782, 28.378687694553232, 12.162804861349382, 8.57223175829831, 43.7537036135738, 22.20256905524414, 30.322806862542002, 22.645713524674576], \"mode\": \"markers\", \"marker\": {\"color\": \"#4b53f1\", \"line\": {\"width\": 0}, \"size\": 2}, \"x\": [-3.460171005781828, 26.502731834519896, 62.27484590086597, 27.646282370031273, 10.485722717045713, -13.398539456255495, -0.91635823118914, 24.42739933593113, -0.7551087300221815], \"z\": [9.575288846834047, 29.383599836846045, 12.620286882082551, 23.378990769763114, 49.486050891923654, 38.05880754117818, 0.7790406200802892, -1.1798093960523577, 26.039611465088267], \"type\": \"scatter3d\"}, {\"name\": \"Cluster 9\", \"text\": [\"Upshot gives 4 pollsters the same raw data, gets 4 different conclusions\", \"Incremental Compilation\", \"Lenses: Yoneda with Adjunctions\", \"Debunking the Cul-de-Sac\", \"[swift-evolution] SE-0138 UnsafeBytes\"], \"y\": [40.95759966592049, 56.53277818319902, 31.559250212028324, 33.004824056004885, 15.168092864858448], \"mode\": \"markers\", \"marker\": {\"color\": \"#e07584\", \"line\": {\"width\": 0}, \"size\": 2}, \"x\": [-40.30348873693373, -47.40435905661696, -50.1891373112132, -37.249139038898576, -41.28476916405895], \"z\": [29.645560446798232, 2.3602802459652694, -40.7195691501954, -12.693214419552051, 10.019648146682469], \"type\": \"scatter3d\"}, {\"opacity\": 0.3, \"name\": \"Cluster 0\", \"alphahull\": 7, \"color\": \"#522ea9\", \"y\": [109.4760668357771], \"x\": [-18.847033744061797], \"z\": [192.79483643652225], \"type\": \"mesh3d\"}, {\"opacity\": 0.3, \"name\": \"Cluster 1\", \"alphahull\": 7, \"color\": \"#b3de3e\", \"y\": [-30.503909646793886, -23.757314135813075, -5.458990011644671, -33.20150686031005, -5.559362611708658, 15.493484733210183, -18.878050000449704, 12.836019440281689, 4.602490088842161, -6.016810253006066, 26.03608460625049, 27.607144924719865], \"x\": [-36.27478063565163, -33.231012858537824, 34.68698825083592, -1.5862462141923301, 5.68454212400661, -12.767412864809014, 8.070677002094724, -27.099984640240393, 22.516057760965545, -15.014172438212821, 19.490494955961235, -3.271060456102561], \"z\": [-28.266139727987397, -56.92880578478828, -39.38350809933764, -32.09098531583713, -38.34356864982187, -62.1483355934845, -9.547710120512665, -32.78926040389059, -15.49124081815045, -20.39073698618086, -41.82468539338885, -24.439872842361027], \"type\": \"mesh3d\"}, {\"opacity\": 0.3, \"name\": \"Cluster 2\", \"alphahull\": 7, \"color\": \"#625d57\", \"y\": [-249.87373089051923], \"x\": [127.92114062701458], \"z\": [4.567871601977133], \"type\": \"mesh3d\"}, {\"opacity\": 0.3, \"name\": \"Cluster 3\", \"alphahull\": 7, \"color\": \"#c1eede\", \"y\": [11.767116847797585, -32.12395101383809, -5.8257707448764515, -20.750292476162215, -18.525884688168208, -11.753239684469282, -53.30499983019328, 2.6786722178122018, -35.630862073896935], \"x\": [-26.71242494202211, -19.467403016071223, 0.7141089988111391, -20.69754558524491, -47.169643368164564, -40.9659285970169, -12.492449532264098, -16.642820110177333, 2.090222813478703], \"z\": [38.110564002666415, -5.988034608137777, 28.766312544028718, 22.544810504213277, 31.256767861797837, -3.406895039325753, 8.66006673556637, 5.5754945323972125, 39.336630089289564], \"type\": \"mesh3d\"}, {\"opacity\": 0.3, \"name\": \"Cluster 4\", \"alphahull\": 7, \"color\": \"#a82f45\", \"y\": [-26.83251756227913, -21.908491390644073, -49.502885947138886, 8.502266487990067, -61.7146810412557, -17.76951961224615, -23.217428751207947], \"x\": [35.20026801820627, 18.755225770769496, 10.078263390873989, 46.16856091576083, 38.05251989251148, 49.71195922610575, 52.67133466291042], \"z\": [-11.152573564563742, 15.897991594395307, -9.361006411630358, -3.622619446033454, -9.356582263581297, 40.519195814545974, 10.77184349823477], \"type\": \"mesh3d\"}, {\"opacity\": 0.3, \"name\": \"Cluster 5\", \"alphahull\": 7, \"color\": \"#303348\", \"y\": [92.29489019777519], \"x\": [-121.31807490046069], \"z\": [-160.3567408347698], \"type\": \"mesh3d\"}, {\"opacity\": 0.3, \"name\": \"Cluster 6\", \"alphahull\": 7, \"color\": \"#f9bce6\", \"y\": [25.20139858353977, 31.49240130748225], \"x\": [14.752720234082691, 40.52827426105892], \"z\": [97.3115547079392, 116.94057069727008], \"type\": \"mesh3d\"}, {\"opacity\": 0.3, \"name\": \"Cluster 7\", \"alphahull\": 7, \"color\": \"#284363\", \"y\": [-21.31716205910714, -45.866549649008796, -52.32113727770703], \"x\": [13.520624937758601, 2.328649402877002, 12.28583814636694], \"z\": [-118.0996003930824, -89.77077250323751, -46.15842190995826], \"type\": \"mesh3d\"}, {\"opacity\": 0.3, \"name\": \"Cluster 8\", \"alphahull\": 7, \"color\": \"#4b53f1\", \"y\": [51.910364236637044, 44.78003533784782, 28.378687694553232, 12.162804861349382, 8.57223175829831, 43.7537036135738, 22.20256905524414, 30.322806862542002, 22.645713524674576], \"x\": [-3.460171005781828, 26.502731834519896, 62.27484590086597, 27.646282370031273, 10.485722717045713, -13.398539456255495, -0.91635823118914, 24.42739933593113, -0.7551087300221815], \"z\": [9.575288846834047, 29.383599836846045, 12.620286882082551, 23.378990769763114, 49.486050891923654, 38.05880754117818, 0.7790406200802892, -1.1798093960523577, 26.039611465088267], \"type\": \"mesh3d\"}, {\"opacity\": 0.3, \"name\": \"Cluster 9\", \"alphahull\": 7, \"color\": \"#e07584\", \"y\": [40.95759966592049, 56.53277818319902, 31.559250212028324, 33.004824056004885, 15.168092864858448], \"x\": [-40.30348873693373, -47.40435905661696, -50.1891373112132, -37.249139038898576, -41.28476916405895], \"z\": [29.645560446798232, 2.3602802459652694, -40.7195691501954, -12.693214419552051, 10.019648146682469], \"type\": \"mesh3d\"}], {\"scene\": {\"aspectratio\": {\"y\": 1, \"x\": 1, \"z\": 0.7}, \"aspectmode\": \"manual\", \"zaxis\": {\"zerolinecolor\": \"rgb(255, 255, 255)\", \"gridcolor\": \"rgb(255, 255, 255)\", \"showbackground\": true, \"backgroundcolor\": \"rgb(230, 230,230)\"}, \"xaxis\": {\"zerolinecolor\": \"rgb(255, 255, 255)\", \"gridcolor\": \"rgb(255, 255, 255)\", \"showbackground\": true, \"backgroundcolor\": \"rgb(230, 230,230)\"}, \"yaxis\": {\"zerolinecolor\": \"rgb(255, 255, 255)\", \"gridcolor\": \"rgb(255, 255, 255)\", \"showbackground\": true, \"backgroundcolor\": \"rgb(230, 230,230)\"}}, \"title\": \"HN Post Titles\"}, {\"linkText\": \"Export to plot.ly\", \"showLink\": true})});</script>"
      ],
      "text/plain": [
       "<IPython.core.display.HTML object>"
      ]
     },
     "metadata": {},
     "output_type": "display_data"
    }
   ],
   "source": [
    "import random \n",
    "data = []\n",
    "clusters = []\n",
    "annotations = []\n",
    "for i in range(CLUSTERS):\n",
    "    name = \"Cluster %d\" % i\n",
    "    colour = \"#%06x\" % random.randint(0, 0xFFFFFF)\n",
    "    ix = np.in1d(kmeans.labels_.ravel(), i).reshape(kmeans.labels_.shape)\n",
    "    indices = np.where(ix)\n",
    "    x = X_2d[indices,0][0]\n",
    "    y = X_2d[indices,1][0]\n",
    "    z = X_2d[indices,2][0]\n",
    "    text = sample.iloc[indices[0], 0].values\n",
    "    \n",
    "    trace = dict(\n",
    "        name = name,\n",
    "        x = x, y = y, z = z,\n",
    "        text = text,\n",
    "        type = \"scatter3d\",    \n",
    "        mode = 'markers',\n",
    "        marker = dict( size=2, line=dict(width=0), color=colour ) \n",
    "    )\n",
    "    data.append( trace )\n",
    "    \n",
    "    cluster = dict(\n",
    "        color=colour,\n",
    "        opacity = 0.3,\n",
    "        type = \"mesh3d\",\n",
    "        x = x, y = y, z = z,\n",
    "        name = name,\n",
    "        alphahull=7\n",
    "        \n",
    "    )\n",
    "    clusters.append( cluster )\n",
    "    \n",
    "    #annotation = dict(\n",
    "        #x = kmeans.cluster_centers_[i][0],\n",
    "        #y = kmeans.cluster_centers_[i][1],\n",
    "        #z = kmeans.cluster_centers_[i][2],\n",
    "        #text = name,\n",
    "        #xref=\"x\", yref=\"y\", zref=\"z\"\n",
    "    #)\n",
    "    #annotations.append(annotation)\n",
    "    \n",
    "layout = dict(\n",
    "    title=\"HN Post Titles\",\n",
    "    scene=dict(\n",
    "        xaxis=dict(\n",
    "            gridcolor='rgb(255, 255, 255)',\n",
    "            zerolinecolor='rgb(255, 255, 255)',\n",
    "            showbackground=True,\n",
    "            backgroundcolor='rgb(230, 230,230)'\n",
    "        ),\n",
    "        yaxis=dict(\n",
    "            gridcolor='rgb(255, 255, 255)',\n",
    "            zerolinecolor='rgb(255, 255, 255)',\n",
    "            showbackground=True,\n",
    "            backgroundcolor='rgb(230, 230,230)'\n",
    "        ),\n",
    "        zaxis=dict(\n",
    "            gridcolor='rgb(255, 255, 255)',\n",
    "            zerolinecolor='rgb(255, 255, 255)',\n",
    "            showbackground=True,\n",
    "            backgroundcolor='rgb(230, 230,230)'\n",
    "        ),\n",
    "        aspectratio = dict( x=1, y=1, z=0.7 ),\n",
    "        aspectmode = 'manual'\n",
    "    ),\n",
    "   # annotations=annotations\n",
    ")\n",
    "\n",
    "fig = dict(data = data+clusters, layout = layout)\n",
    "iplot(fig, filename='pandas-3d-scatter-hn-titles', validate=False)"
   ]
  },
  {
   "cell_type": "code",
   "execution_count": null,
   "metadata": {
    "collapsed": true
   },
   "outputs": [],
   "source": []
  }
 ],
 "metadata": {
  "kernelspec": {
   "display_name": "Python 2",
   "language": "python",
   "name": "python2"
  },
  "language_info": {
   "codemirror_mode": {
    "name": "ipython",
    "version": 2
   },
   "file_extension": ".py",
   "mimetype": "text/x-python",
   "name": "python",
   "nbconvert_exporter": "python",
   "pygments_lexer": "ipython2",
   "version": "2.7.6"
  }
 },
 "nbformat": 4,
 "nbformat_minor": 1
}
